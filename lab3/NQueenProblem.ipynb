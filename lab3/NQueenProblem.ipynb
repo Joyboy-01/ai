{
 "cells": [
  {
   "cell_type": "code",
   "execution_count": 19,
   "metadata": {
    "collapsed": false,
    "jupyter": {
     "outputs_hidden": false
    }
   },
   "outputs": [],
   "source": [
    "import numpy as np\n",
    "# rng = np.random.default_rng(2020)"
   ]
  },
  {
   "cell_type": "markdown",
   "metadata": {
    "collapsed": false,
    "jupyter": {
     "outputs_hidden": false
    }
   },
   "source": [
    "# Solve the n-Queen problem with Simulated Annealing.\n",
    "#### What will be tested:\n",
    "* That you understand every line of your code, not just copy from somewhere\n",
    "* That your program compiles correctly\n",
    "* Correctness of the program logic\n",
    "* That the result is obtained in a reasonable time\n",
    "#### What you need to do:\n",
    "* Complete the `value` function\n",
    "* Implement two search operators in `swap` and `permutation`\n",
    "* Implement the replacement in `simulated_annealing`"
   ]
  },
  {
   "cell_type": "code",
   "execution_count": 20,
   "metadata": {},
   "outputs": [],
   "source": [
    "class NQueenProblem:\n",
    "    def __init__(self, grid, n, method) -> None:\n",
    "        # grid is a 1D array, each element represents the position of a queen\n",
    "        # In init state of the n-queen problem, if n = 8, grid = [0, 1, 2, 3, 4, 5, 6, 7]\n",
    "        # represents the following state:\n",
    "        # 1 0 0 0 0 0 0 0\n",
    "        # 0 1 0 0 0 0 0 0\n",
    "        # 0 0 1 0 0 0 0 0\n",
    "        # 0 0 0 1 0 0 0 0\n",
    "        # 0 0 0 0 1 0 0 0\n",
    "        # 0 0 0 0 0 1 0 0\n",
    "        # 0 0 0 0 0 0 1 0\n",
    "        # 0 0 0 0 0 0 0 1\n",
    "        # all queens in the initial state have conflicts with each other\n",
    "        self.grid = grid\n",
    "        self.n = n\n",
    "        self.method = method\n",
    "\n",
    "    def value(self):\n",
    "        # TODO: evaluate the current state, return a scalar value\n",
    "        # the evaluation function calculates the number of attacking pairs of queens on the board\n",
    "        # return the number of conflicts\n",
    "        conflicts = 0\n",
    "        for i in range(self.grid.size - 1):\n",
    "            for j in range(i + 1, self.grid.size):\n",
    "                if self.grid[i] == self.grid[j] or abs(i - j) == abs(self.grid[i] - self.grid[j]):\n",
    "                    conflicts += 1\n",
    "        return conflicts\n",
    "\n",
    "\n",
    "    def local_search(self):\n",
    "        # using the method to generate a new grid\n",
    "        new_grid = self.method(self.grid, self.n)\n",
    "        return NQueenProblem(new_grid, self.n, self.method)\n",
    "\n",
    "    def print_grid(self):\n",
    "        matrix = np.zeros((self.n, self.n))\n",
    "        for i in range(self.n):\n",
    "            matrix[self.grid[i], i] = 1\n",
    "        for i in range(self.n):\n",
    "            for j in range(self.n):\n",
    "                print(int(matrix[i, j]), end=' ')\n",
    "            print()\n"
   ]
  },
  {
   "cell_type": "markdown",
   "metadata": {
    "collapsed": false,
    "jupyter": {
     "outputs_hidden": false
    }
   },
   "source": [
    "#### Check the correctness of the value function:"
   ]
  },
  {
   "cell_type": "code",
   "execution_count": 21,
   "metadata": {
    "collapsed": false,
    "jupyter": {
     "outputs_hidden": false
    }
   },
   "outputs": [
    {
     "name": "stdout",
     "output_type": "stream",
     "text": [
      "0 0 0 0 0 0 0 1 \n",
      "0 0 0 1 0 0 0 0 \n",
      "0 0 0 0 0 0 1 0 \n",
      "0 0 0 0 0 1 0 0 \n",
      "0 1 0 0 0 0 0 0 \n",
      "0 0 0 0 1 0 0 0 \n",
      "0 0 1 0 0 0 0 0 \n",
      "1 0 0 0 0 0 0 0 \n"
     ]
    },
    {
     "data": {
      "text/plain": [
       "5"
      ]
     },
     "execution_count": 21,
     "metadata": {},
     "output_type": "execute_result"
    }
   ],
   "source": [
    "grid = np.array([7,4,6,1,5,3,2,0])\n",
    "problem = NQueenProblem(grid, 8, None)\n",
    "problem.print_grid()\n",
    "problem.value()"
   ]
  },
  {
   "cell_type": "code",
   "execution_count": 22,
   "metadata": {
    "collapsed": false,
    "jupyter": {
     "outputs_hidden": false
    }
   },
   "outputs": [],
   "source": [
    "import math\n",
    "import random\n",
    "def simulated_annealing(initial:NQueenProblem, schedule, halt, log_interval=200):\n",
    "    state = initial\n",
    "    t = 0           # time step\n",
    "    T = schedule(t) # temperature\n",
    "    f = [state.value()] # a recording of values\n",
    "    while not halt(T):\n",
    "        T = schedule(t)\n",
    "        new_state = state.local_search()\n",
    "        new_value = new_state.value()\n",
    "\n",
    "        # TODO: implement the replacement here\n",
    "        if new_value < state.value():\n",
    "            state = new_state\n",
    "        else:\n",
    "            p = math.exp((state.value() - new_value) / T)\n",
    "            if random.random() < p:\n",
    "                state = new_state\n",
    "\n",
    "        f.append(state.value())\n",
    "\n",
    "        # update time and temperature\n",
    "        if t % log_interval == 0:\n",
    "            print(f\"step {t}: T={T}, current_value={state.value()}\")\n",
    "        if new_value == 0:\n",
    "            break\n",
    "        t += 1\n",
    "        T = schedule(t)\n",
    "    print(f\"step {t}: T={T}, current_value={state.value()}\")\n",
    "    return state, f"
   ]
  },
  {
   "cell_type": "code",
   "execution_count": 23,
   "metadata": {
    "collapsed": false,
    "jupyter": {
     "outputs_hidden": false
    }
   },
   "outputs": [],
   "source": [
    "# Operator 1  \n",
    "def swap(grid, n):\n",
    "     # TODO: swap two positions in the grid\n",
    "     i,j = random.sample(range(n), 2)\n",
    "     grid[i], grid[j] = grid[j], grid[i]\n",
    "     return grid\n",
    "\n",
    "# Operator 2 \n",
    "def permutation(grid, n):\n",
    "     # TODO: random shuffling sequences(grid)\n",
    "     random.shuffle(grid)\n",
    "     return grid"
   ]
  },
  {
   "cell_type": "code",
   "execution_count": 24,
   "metadata": {
    "collapsed": false,
    "jupyter": {
     "outputs_hidden": false
    }
   },
   "outputs": [
    {
     "name": "stdout",
     "output_type": "stream",
     "text": [
      "step 0: T=1.0, current_value=48\n",
      "step 100: T=0.9047921471137089, current_value=8\n",
      "step 200: T=0.8186488294786356, current_value=10\n",
      "step 300: T=0.7407070321560992, current_value=6\n",
      "step 400: T=0.6701859060067401, current_value=5\n",
      "step 500: T=0.6063789448611847, current_value=7\n",
      "step 600: T=0.5486469074854967, current_value=7\n",
      "step 700: T=0.49641141343109896, current_value=6\n",
      "step 800: T=0.4491491486100751, current_value=7\n",
      "step 900: T=0.4063866225452042, current_value=7\n",
      "step 1000: T=0.36769542477096373, current_value=5\n",
      "step 1100: T=0.3326879328624075, current_value=7\n",
      "step 1200: T=0.3010134290933991, current_value=6\n",
      "step 1300: T=0.2723545868194768, current_value=7\n",
      "step 1400: T=0.2464242913846615, current_value=6\n",
      "step 1500: T=0.2229627637029021, current_value=6\n",
      "step 1600: T=0.20173495769715533, current_value=8\n",
      "step 1700: T=0.18252820552270244, current_value=6\n",
      "step 1800: T=0.16515008698369826, current_value=8\n",
      "step 1900: T=0.14942650179799616, current_value=10\n",
      "step 2000: T=0.13519992539749945, current_value=7\n",
      "step 2100: T=0.12232783079001679, current_value=6\n",
      "step 2200: T=0.11068126067226176, current_value=10\n",
      "step 2300: T=0.10014353548890784, current_value=12\n",
      "step 2400: T=0.09060908449456684, current_value=5\n",
      "step 2500: T=0.0819823881078466, current_value=10\n",
      "step 2600: T=0.07417702096160793, current_value=6\n",
      "step 2700: T=0.06711478606235183, current_value=9\n",
      "step 2800: T=0.060724931384432544, current_value=7\n",
      "step 2900: T=0.05494344105065337, current_value=9\n",
      "step 3000: T=0.04971239399803616, current_value=10\n",
      "step 3100: T=0.0449793837036458, current_value=7\n",
      "step 3200: T=0.04069699315707305, current_value=9\n",
      "step 3300: T=0.03682231981966005, current_value=7\n",
      "step 3400: T=0.033316545811337896, current_value=5\n",
      "step 3500: T=0.030144549019052662, current_value=9\n",
      "step 3600: T=0.027274551230723105, current_value=7\n",
      "step 3700: T=0.02467779976960881, current_value=6\n",
      "step 3800: T=0.02232827943958655, current_value=5\n",
      "step 3900: T=0.020202451895498397, current_value=6\n",
      "step 4000: T=0.018279019827489414, current_value=12\n",
      "step 4100: T=0.016538713596848206, current_value=14\n",
      "step 4200: T=0.01496409818579098, current_value=8\n",
      "step 4300: T=0.013539398527142176, current_value=9\n",
      "step 4400: T=0.01225034146400116, current_value=5\n",
      "step 4500: T=0.011084012756089705, current_value=8\n",
      "step 4600: T=0.010028727700218143, current_value=3\n",
      "step 4700: T=0.009073914068699103, current_value=4\n",
      "step 4800: T=0.008210006192943552, current_value=7\n",
      "step 4900: T=0.007428349131130244, current_value=10\n",
      "step 5000: T=0.006721111959865588, current_value=4\n",
      "step 5100: T=0.006081209321158414, current_value=5\n",
      "step 5200: T=0.005502230438738822, current_value=7\n",
      "step 5300: T=0.004978374892580903, current_value=13\n",
      "step 5400: T=0.004504394508195256, current_value=7\n",
      "step 5500: T=0.004075540778517185, current_value=5\n",
      "step 5600: T=0.0036875172916440405, current_value=4\n",
      "step 5700: T=0.0033364366878255404, current_value=4\n",
      "step 5800: T=0.003018781714486622, current_value=15\n",
      "step 5900: T=0.002731369989117954, current_value=6\n",
      "step 6000: T=0.0024713221170159817, current_value=4\n",
      "step 6100: T=0.002236032844464487, current_value=9\n",
      "step 6200: T=0.002023144958359797, current_value=8\n",
      "step 6300: T=0.001830525670796636, current_value=11\n",
      "step 6400: T=0.0016562452520268508, current_value=7\n",
      "step 6500: T=0.0014985576977282603, current_value=7\n",
      "step 6600: T=0.001355883236901329, current_value=6\n",
      "step 6700: T=0.0012267925051514393, current_value=8\n",
      "step 6800: T=0.0011099922247989767, current_value=3\n",
      "step 6900: T=0.0010043122483553888, current_value=9\n",
      "step 7000: T=0.0009086938355620688, current_value=6\n",
      "step 7100: T=0.0008221790465471957, current_value=11\n",
      "step 7200: T=0.0007439011448373393, current_value=6\n",
      "step 7300: T=0.0006730759140777225, current_value=7\n",
      "step 7400: T=0.0006089938014689048, current_value=4\n",
      "step 7500: T=0.0005510128092099902, current_value=9\n",
      "step 7600: T=0.0004985520627322635, current_value=8\n",
      "step 7700: T=0.00045108599128749317, current_value=10\n",
      "step 7800: T=0.00040813906258992675, current_value=7\n",
      "step 7900: T=0.0003692810187617163, current_value=9\n",
      "step 8000: T=0.00033412256585375113, current_value=4\n",
      "step 8100: T=0.0003023114737579571, current_value=6\n",
      "step 8200: T=0.0002735290474385717, current_value=6\n",
      "step 8300: T=0.00024748693412991285, current_value=8\n",
      "step 8400: T=0.00022392423451399288, current_value=6\n",
      "step 8500: T=0.00020260488893670932, current_value=7\n",
      "step 8600: T=0.00018331531247677975, current_value=7\n",
      "step 8700: T=0.00016586225517468603, current_value=5\n",
      "step 8800: T=0.00015007086598462605, current_value=4\n",
      "step 8900: T=0.00013578294105344349, current_value=8\n",
      "step 9000: T=0.00012285533877715932, current_value=7\n",
      "step 9100: T=0.00011115854575656808, current_value=6\n",
      "step 9200: T=0.0001005753792851227, current_value=9\n",
      "step 9300: T=9.099981337016182e-05, current_value=4\n",
      "step 9400: T=8.233591652613551e-05, current_value=5\n",
      "step 9500: T=7.449689069825726e-05, current_value=10\n",
      "step 9600: T=6.740420168817147e-05, current_value=5\n",
      "step 9700: T=6.098679236992616e-05, current_value=13\n",
      "step 9800: T=5.5180370813963455e-05, current_value=9\n",
      "step 9900: T=4.9926766187296635e-05, current_value=5\n",
      "step 10000: T=4.517334597704824e-05, current_value=8\n",
      "step 10100: T=4.087248869888391e-05, current_value=6\n",
      "step 10200: T=3.6981106807743975e-05, current_value=16\n",
      "step 10300: T=3.346021503122007e-05, current_value=4\n",
      "step 10400: T=3.0274539800984007e-05, current_value=5\n",
      "step 10500: T=2.739216586941176e-05, current_value=4\n",
      "step 10600: T=2.4784216571079923e-05, current_value=7\n",
      "step 10700: T=2.242456452587857e-05, current_value=7\n",
      "step 10800: T=2.028956988545958e-05, current_value=8\n",
      "step 10900: T=1.8357843500678624e-05, current_value=12\n",
      "step 11000: T=1.661003263735646e-05, current_value=10\n",
      "step 11100: T=1.5028627093582532e-05, current_value=8\n",
      "step 11200: T=1.3597783776173799e-05, current_value=7\n",
      "step 11300: T=1.2303167978832249e-05, current_value=6\n",
      "step 11400: T=1.1131809771868262e-05, current_value=6\n",
      "step 11500: T=1.0071974064750051e-05, current_value=10\n",
      "step 11600: T=9.11304303971879e-06, current_value=3\n",
      "step 11700: T=8.245409778646804e-06, current_value=9\n",
      "step 11800: T=7.460382017454214e-06, current_value=5\n",
      "step 11900: T=6.750095063860902e-06, current_value=5\n",
      "step 12000: T=6.107433006052354e-06, current_value=7\n",
      "step 12100: T=5.525957422899243e-06, current_value=7\n",
      "step 12200: T=4.999842881523944e-06, current_value=7\n",
      "step 12300: T=4.523818576005243e-06, current_value=13\n",
      "step 12400: T=4.093115522536665e-06, current_value=11\n",
      "step 12500: T=3.7034187820204e-06, current_value=7\n",
      "step 12600: T=3.3508242314454746e-06, current_value=17\n",
      "step 12700: T=3.0317994509701948e-06, current_value=6\n",
      "step 12800: T=2.7431483348614865e-06, current_value=6\n",
      "step 12900: T=2.48197907175072e-06, current_value=10\n",
      "step 13000: T=2.2456751734206243e-06, current_value=10\n",
      "step 13100: T=2.031869261879197e-06, current_value=5\n",
      "step 13200: T=1.838419352110026e-06, current_value=5\n",
      "step 13300: T=1.663387392891024e-06, current_value=12\n",
      "step 13400: T=1.5050198506957442e-06, current_value=8\n",
      "step 13500: T=1.361730142159756e-06, current_value=10\n",
      "step 13600: T=1.232082739114182e-06, current_value=9\n",
      "step 13700: T=1.1147787869448604e-06, current_value=13\n",
      "step 13800: T=1.008643092196656e-06, current_value=4\n",
      "step 13900: T=9.126123490600232e-07, current_value=4\n",
      "step 14000: T=8.25724486788504e-07, current_value=11\n",
      "step 14100: T=7.47109031325736e-07, current_value=10\n",
      "step 14200: T=6.759783845812558e-07, current_value=13\n",
      "step 14300: T=6.11619933987731e-07, current_value=5\n",
      "step 14400: T=5.533889132903041e-07, current_value=9\n",
      "step 14500: T=5.007019430448563e-07, current_value=5\n",
      "step 14600: T=4.530311861115616e-07, current_value=10\n",
      "step 14700: T=4.098990595913501e-07, current_value=7\n",
      "step 14800: T=3.708734502275478e-07, current_value=3\n",
      "step 14900: T=3.355633853388522e-07, current_value=13\n",
      "step 15000: T=3.03615115913485e-07, current_value=8\n",
      "step 15100: T=2.747085726235397e-07, current_value=8\n",
      "step 15200: T=2.4855415925459474e-07, current_value=6\n",
      "step 15300: T=2.2488985142600753e-07, current_value=7\n",
      "step 15400: T=2.0347857153582036e-07, current_value=5\n",
      "step 15500: T=1.8410581363152532e-07, current_value=5\n",
      "step 15600: T=1.6657749441178416e-07, current_value=13\n",
      "step 15700: T=1.5071800882966005e-07, current_value=8\n",
      "step 15800: T=1.3636847081769104e-07, current_value=9\n",
      "step 15900: T=1.2338512150975184e-07, current_value=2\n",
      "step 16000: T=1.1163788901269425e-07, current_value=5\n",
      "step 16100: T=1.0100908529903758e-07, current_value=8\n",
      "step 16111: T=9.990352422722691e-08, current_value=6\n",
      "0 0 0 0 0 0 0 1 0 0 0 0 \n",
      "0 0 0 0 0 0 0 0 1 0 0 0 \n",
      "0 0 1 0 0 0 0 0 0 0 0 0 \n",
      "0 0 0 0 1 0 0 0 0 0 0 0 \n",
      "0 1 0 0 0 0 0 0 0 0 0 0 \n",
      "0 0 0 0 0 0 0 0 0 0 0 1 \n",
      "0 0 0 1 0 0 0 0 0 0 0 0 \n",
      "0 0 0 0 0 1 0 0 0 0 0 0 \n",
      "1 0 0 0 0 0 0 0 0 0 0 0 \n",
      "0 0 0 0 0 0 0 0 0 0 1 0 \n",
      "0 0 0 0 0 0 0 0 0 1 0 0 \n",
      "0 0 0 0 0 0 1 0 0 0 0 0 \n"
     ]
    },
    {
     "data": {
      "text/plain": [
       "(array([ 8,  4,  2,  6,  3,  7, 11,  0,  1, 10,  9,  5]), 6)"
      ]
     },
     "execution_count": 24,
     "metadata": {},
     "output_type": "execute_result"
    }
   ],
   "source": [
    "#Run the simulated annealing algorithm for the N-Queens problem using Operator 1:swap and observe the results\n",
    "rng = np.random.default_rng(200)\n",
    "solution, record = simulated_annealing(\n",
    "    # random\n",
    "    initial=NQueenProblem(np.arange(12), 12, swap),\n",
    "    schedule=lambda t: 0.999**t,\n",
    "    halt=lambda T: T<1e-7,\n",
    "    log_interval=100\n",
    ")\n",
    "solution.print_grid()\n",
    "solution.grid, solution.value()"
   ]
  },
  {
   "cell_type": "code",
   "execution_count": 25,
   "metadata": {
    "collapsed": false,
    "jupyter": {
     "outputs_hidden": false
    }
   },
   "outputs": [
    {
     "data": {
      "image/png": "[encoded data removed]",
      "text/plain": [
       "<Figure size 640x480 with 1 Axes>"
      ]
     },
     "metadata": {},
     "output_type": "display_data"
    }
   ],
   "source": [
    "import matplotlib.pyplot as plt\n",
    "\n",
    "plt.plot(record)\n",
    "plt.xlabel('step')\n",
    "plt.ylabel('value')\n",
    "plt.show()"
   ]
  },
  {
   "cell_type": "code",
   "execution_count": 26,
   "metadata": {
    "collapsed": false,
    "jupyter": {
     "outputs_hidden": false
    }
   },
   "outputs": [
    {
     "name": "stdout",
     "output_type": "stream",
     "text": [
      "step 0: T=1.0, current_value=7\n",
      "step 200: T=0.8186488294786356, current_value=2\n",
      "step 400: T=0.6701859060067401, current_value=12\n",
      "step 600: T=0.5486469074854967, current_value=12\n",
      "step 800: T=0.4491491486100751, current_value=4\n",
      "step 1000: T=0.36769542477096373, current_value=7\n",
      "step 1200: T=0.3010134290933991, current_value=4\n",
      "step 1400: T=0.2464242913846615, current_value=7\n",
      "step 1600: T=0.20173495769715533, current_value=7\n",
      "step 1800: T=0.16515008698369826, current_value=8\n",
      "step 2000: T=0.13519992539749945, current_value=8\n",
      "step 2200: T=0.11068126067226176, current_value=3\n",
      "step 2400: T=0.09060908449456684, current_value=6\n",
      "step 2600: T=0.07417702096160793, current_value=4\n",
      "step 2800: T=0.060724931384432544, current_value=8\n",
      "step 3000: T=0.04971239399803616, current_value=8\n",
      "step 3200: T=0.04069699315707305, current_value=10\n",
      "step 3400: T=0.033316545811337896, current_value=5\n",
      "step 3600: T=0.027274551230723105, current_value=13\n",
      "step 3800: T=0.02232827943958655, current_value=9\n",
      "step 4000: T=0.018279019827489414, current_value=8\n",
      "step 4200: T=0.01496409818579098, current_value=9\n",
      "step 4400: T=0.01225034146400116, current_value=8\n",
      "step 4600: T=0.010028727700218143, current_value=6\n",
      "step 4800: T=0.008210006192943552, current_value=7\n",
      "step 5000: T=0.006721111959865588, current_value=7\n",
      "step 5200: T=0.005502230438738822, current_value=11\n",
      "step 5400: T=0.004504394508195256, current_value=9\n",
      "step 5600: T=0.0036875172916440405, current_value=10\n",
      "step 5800: T=0.003018781714486622, current_value=5\n",
      "step 6000: T=0.0024713221170159817, current_value=5\n",
      "step 6200: T=0.002023144958359797, current_value=9\n",
      "step 6400: T=0.0016562452520268508, current_value=5\n",
      "step 6600: T=0.001355883236901329, current_value=5\n",
      "step 6800: T=0.0011099922247989767, current_value=9\n",
      "step 7000: T=0.0009086938355620688, current_value=12\n",
      "step 7200: T=0.0007439011448373393, current_value=9\n",
      "step 7400: T=0.0006089938014689048, current_value=3\n",
      "step 7600: T=0.0004985520627322635, current_value=7\n",
      "step 7800: T=0.00040813906258992675, current_value=10\n",
      "step 8000: T=0.00033412256585375113, current_value=7\n",
      "step 8200: T=0.0002735290474385717, current_value=12\n",
      "step 8400: T=0.00022392423451399288, current_value=10\n",
      "step 8600: T=0.00018331531247677975, current_value=7\n",
      "step 8800: T=0.00015007086598462605, current_value=13\n",
      "step 9000: T=0.00012285533877715932, current_value=11\n",
      "step 9200: T=0.0001005753792851227, current_value=8\n",
      "step 9400: T=8.233591652613551e-05, current_value=8\n",
      "step 9600: T=6.740420168817147e-05, current_value=11\n",
      "step 9800: T=5.5180370813963455e-05, current_value=10\n",
      "step 10000: T=4.517334597704824e-05, current_value=5\n",
      "step 10200: T=3.6981106807743975e-05, current_value=4\n",
      "step 10400: T=3.0274539800984007e-05, current_value=6\n",
      "step 10600: T=2.4784216571079923e-05, current_value=7\n",
      "step 10800: T=2.028956988545958e-05, current_value=5\n",
      "step 11000: T=1.661003263735646e-05, current_value=7\n",
      "step 11200: T=1.3597783776173799e-05, current_value=6\n",
      "step 11400: T=1.1131809771868262e-05, current_value=5\n",
      "step 11600: T=9.11304303971879e-06, current_value=10\n",
      "step 11800: T=7.460382017454214e-06, current_value=6\n",
      "step 12000: T=6.107433006052354e-06, current_value=10\n",
      "step 12200: T=4.999842881523944e-06, current_value=7\n",
      "step 12400: T=4.093115522536665e-06, current_value=8\n",
      "step 12600: T=3.3508242314454746e-06, current_value=9\n",
      "step 12800: T=2.7431483348614865e-06, current_value=6\n",
      "step 13000: T=2.2456751734206243e-06, current_value=8\n",
      "step 13200: T=1.838419352110026e-06, current_value=6\n",
      "step 13400: T=1.5050198506957442e-06, current_value=10\n",
      "step 13600: T=1.232082739114182e-06, current_value=10\n",
      "step 13800: T=1.008643092196656e-06, current_value=9\n",
      "step 14000: T=8.25724486788504e-07, current_value=8\n",
      "step 14200: T=6.759783845812558e-07, current_value=4\n",
      "step 14400: T=5.533889132903041e-07, current_value=8\n",
      "step 14600: T=4.530311861115616e-07, current_value=8\n",
      "step 14800: T=3.708734502275478e-07, current_value=7\n",
      "step 15000: T=3.03615115913485e-07, current_value=10\n",
      "step 15200: T=2.4855415925459474e-07, current_value=8\n",
      "step 15400: T=2.0347857153582036e-07, current_value=9\n",
      "step 15600: T=1.6657749441178416e-07, current_value=7\n",
      "step 15800: T=1.3636847081769104e-07, current_value=8\n",
      "step 16000: T=1.1163788901269425e-07, current_value=9\n",
      "step 16111: T=9.990352422722691e-08, current_value=9\n",
      "0 0 0 0 0 0 0 0 0 1 0 0 \n",
      "0 0 0 0 1 0 0 0 0 0 0 0 \n",
      "0 0 1 0 0 0 0 0 0 0 0 0 \n",
      "0 0 0 0 0 0 1 0 0 0 0 0 \n",
      "1 0 0 0 0 0 0 0 0 0 0 0 \n",
      "0 1 0 0 0 0 0 0 0 0 0 0 \n",
      "0 0 0 0 0 0 0 0 0 0 1 0 \n",
      "0 0 0 0 0 0 0 0 0 0 0 1 \n",
      "0 0 0 1 0 0 0 0 0 0 0 0 \n",
      "0 0 0 0 0 0 0 0 1 0 0 0 \n",
      "0 0 0 0 0 1 0 0 0 0 0 0 \n",
      "0 0 0 0 0 0 0 1 0 0 0 0 \n"
     ]
    },
    {
     "data": {
      "text/plain": [
       "(array([ 4,  5,  2,  8,  1, 10,  3, 11,  9,  0,  6,  7]), 9)"
      ]
     },
     "execution_count": 26,
     "metadata": {},
     "output_type": "execute_result"
    }
   ],
   "source": [
    "#Run the simulated annealing algorithm for the N-Queens problem using Operator 1:swap and observe the results\n",
    "#Compare the effects of the two Operators and attempt to explain the differences.\n",
    "solution, record = simulated_annealing(\n",
    "    initial=NQueenProblem(np.arange(12), 12, permutation),\n",
    "    schedule=lambda t: 0.999**t,\n",
    "    halt=lambda T: T<1e-7,\n",
    "    log_interval=200\n",
    ")\n",
    "solution.print_grid()\n",
    "solution.grid, solution.value()"
   ]
  },
  {
   "cell_type": "code",
   "execution_count": 27,
   "metadata": {
    "collapsed": false,
    "jupyter": {
     "outputs_hidden": false
    }
   },
   "outputs": [
    {
     "data": {
      "image/png": "[encoded data removed]",
      "text/plain": [
       "<Figure size 640x480 with 1 Axes>"
      ]
     },
     "metadata": {},
     "output_type": "display_data"
    }
   ],
   "source": [
    "plt.plot(record)\n",
    "plt.xlabel('step')\n",
    "plt.ylabel('value')\n",
    "plt.show()"
   ]
  }
 ],
 "metadata": {
  "kernelspec": {
   "display_name": "Python 3 (ipykernel)",
   "language": "python",
   "name": "python3"
  },
  "language_info": {
   "codemirror_mode": {
    "name": "ipython",
    "version": 3
   },
   "file_extension": ".py",
   "mimetype": "text/x-python",
   "name": "python",
   "nbconvert_exporter": "python",
   "pygments_lexer": "ipython3",
   "version": "3.11.9"
  }
 },
 "nbformat": 4,
 "nbformat_minor": 4
}
