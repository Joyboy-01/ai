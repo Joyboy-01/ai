{
 "cells": [
  {
   "cell_type": "markdown",
   "metadata": {},
   "source": [
    "## Python Practice (0.5 points)\n",
    "### Snake: Simulate a snake game and print the game results.\n",
    "\n",
    "You are given a map that ‘x’ represents a rock, ‘-’represents a space, ‘#’represents the body of snake. ‘@’represent the head of the snake and a sequence of actions that ‘0,1,2,3’represent to move to up/down/left/right correspondingly for one step.\n",
    "A greedy snake starts in the map state and moves one step per unit of time according to the sequence of actions until all actions complete or fail. It will fail when the head and the stone overlap, the head goes beyond the boundary, or the head overlaps the body. \n",
    "\n",
    "#### Input\n",
    "A matrix with type char (the map). \n",
    "A sequence with type int (the motions). \n",
    "\n",
    "#### Output\n",
    "The result of the game:\n",
    "If it failed, output the running time of the game.\n",
    "If it didn’t fail, output the final position of the head (in the form “%d, %d”)."
   ]
  },
  {
   "cell_type": "code",
   "execution_count": 42,
   "metadata": {},
   "outputs": [
    {
     "data": {
      "text/plain": [
       "'\\nExample:\\ninput:\\nmap:\\n---------\\n------x--\\n-x-------\\n---@-----\\n---##----\\n------x--\\n--x----x-\\n-x-------\\n---------\\naction:\\n0 0 3 3 0 3 3 1 1 1 1 1 3 1 1 2 2 2 2 2\\n\\noutput:\\n7 3\\n'"
      ]
     },
     "execution_count": 42,
     "metadata": {},
     "output_type": "execute_result"
    }
   ],
   "source": [
    "\"\"\"\n",
    "Example:\n",
    "input:\n",
    "map:\n",
    "---------\n",
    "------x--\n",
    "-x-------\n",
    "---@-----\n",
    "---##----\n",
    "------x--\n",
    "--x----x-\n",
    "-x-------\n",
    "---------\n",
    "action:\n",
    "0 0 3 3 0 3 3 1 1 1 1 1 3 1 1 2 2 2 2 2\n",
    "\n",
    "output:\n",
    "7 3\n",
    "\"\"\""
   ]
  },
  {
   "cell_type": "code",
   "execution_count": 43,
   "metadata": {
    "pycharm": {
     "name": "#%%\n"
    }
   },
   "outputs": [],
   "source": [
    "def simulate_snake_game(snake_map, actions):\n",
    "    rows = len(snake_map)\n",
    "    cols = len(snake_map[0])\n",
    "\n",
    "    snake_body = []\n",
    "    head_position = None\n",
    "\n",
    "    for i in range(rows):\n",
    "        for j in range(cols):\n",
    "            if snake_map[i][j] == '@':\n",
    "                head_position = (i, j)\n",
    "                snake_body.append(head_position)\n",
    "            elif snake_map[i][j] == '#':\n",
    "                snake_body.append((i, j))\n",
    "\n",
    "    directions = {\n",
    "        0: (-1, 0), \n",
    "        1: (1, 0),  \n",
    "        2: (0, -1), \n",
    "        3: (0, 1)   \n",
    "    }\n",
    "\n",
    "    head_row, head_col = head_position\n",
    "    for step, action in enumerate(actions):\n",
    "        delta_row, delta_col = directions[action]\n",
    "        new_row = head_row + delta_row\n",
    "        new_col = head_col + delta_col\n",
    "        # if new_row < 0:\n",
    "        #     new_row = rows - 1\n",
    "        # elif new_row >= rows: \n",
    "        #     new_row = 0\n",
    "        # if new_col < 0:\n",
    "        #     new_col = cols - 1\n",
    "        # elif new_col >= cols: \n",
    "        #     new_col = 0\n",
    "        if new_row < 0 or new_row >= rows or new_col < 0 or new_col >= cols:\n",
    "            return f\"Failed at step {step + 1}: Out of bounds\"\n",
    "        if snake_map[new_row][new_col] == 'x':\n",
    "            return f\"Failed at step {step + 1}: Hit a rock\"\n",
    "        snake_body.pop(0)\n",
    "        #print(snake_body)\n",
    "        if (new_row, new_col) in snake_body:\n",
    "            return f\"Failed at step {step + 1}: Hit the body\"\n",
    "        snake_body.insert(0, (new_row, new_col))\n",
    "        #print(snake_body)\n",
    "        head_row, head_col = new_row, new_col\n",
    "    return f\"Final position of the head: {head_row}, {head_col}\"\n",
    "\n"
   ]
  },
  {
   "cell_type": "code",
   "execution_count": 44,
   "metadata": {
    "pycharm": {
     "name": "#%%\n"
    }
   },
   "outputs": [
    {
     "name": "stdout",
     "output_type": "stream",
     "text": [
      "Final position of the head: 7, 3\n",
      "Failed at step 11: Out of bounds\n",
      "Failed at step 12: Hit a rock\n",
      "Failed at step 10: Hit the body\n"
     ]
    }
   ],
   "source": [
    "# test block, you may need to modify this block.\n",
    "\n",
    "for test_case in range(1, 5):\n",
    "    with open(f'pythonpractice_test_cases/{test_case}-map.txt', 'r') as f:\n",
    "        game_map = [list(line.strip()) for line in f.readlines()]\n",
    "\n",
    "    # print(f\"Test Case {test_case}: Game Map\")\n",
    "    # format_print_game_map(game_map)\n",
    "\n",
    "    with open(f'./pythonpractice_test_cases/{test_case}-actions.txt', 'r') as f:\n",
    "        actions = [*map(int, f.read().split(' '))]\n",
    "    # print(f\"Test Case {test_case}: Actions\")\n",
    "    # print(actions)\n",
    "\n",
    "    print(simulate_snake_game(game_map, actions))"
   ]
  },
  {
   "cell_type": "markdown",
   "metadata": {},
   "source": []
  },
  {
   "cell_type": "code",
   "execution_count": null,
   "metadata": {},
   "outputs": [],
   "source": []
  }
 ],
 "metadata": {
  "interpreter": {
   "hash": "6eea70d608ba4e65e3b5d32ac8522b4d78d39b471a2766e116e1911c1dde4fb7"
  },
  "kernelspec": {
   "display_name": "Python 3 (ipykernel)",
   "language": "python",
   "name": "python3"
  },
  "language_info": {
   "codemirror_mode": {
    "name": "ipython",
    "version": 3
   },
   "file_extension": ".py",
   "mimetype": "text/x-python",
   "name": "python",
   "nbconvert_exporter": "python",
   "pygments_lexer": "ipython3",
   "version": "3.12.4"
  }
 },
 "nbformat": 4,
 "nbformat_minor": 4
}
