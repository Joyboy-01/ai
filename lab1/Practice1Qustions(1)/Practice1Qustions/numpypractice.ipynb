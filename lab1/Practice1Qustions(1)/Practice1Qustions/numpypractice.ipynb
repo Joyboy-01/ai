{
 "cells": [
  {
   "cell_type": "markdown",
   "id": "64da1d8e",
   "metadata": {},
   "source": [
    "## Numpy Practice (0.5 point)\n",
    "\n",
    "1. Create a 10*10 ndarray object, and the matrix boundary value is 1, and the rest are 0.\n"
   ]
  },
  {
   "cell_type": "code",
   "execution_count": 1,
   "id": "035382e3",
   "metadata": {},
   "outputs": [
    {
     "name": "stdout",
     "output_type": "stream",
     "text": [
      "[[1. 1. 1. 1. 1. 1. 1. 1. 1. 1.]\n",
      " [1. 0. 0. 0. 0. 0. 0. 0. 0. 1.]\n",
      " [1. 0. 0. 0. 0. 0. 0. 0. 0. 1.]\n",
      " [1. 0. 0. 0. 0. 0. 0. 0. 0. 1.]\n",
      " [1. 0. 0. 0. 0. 0. 0. 0. 0. 1.]\n",
      " [1. 0. 0. 0. 0. 0. 0. 0. 0. 1.]\n",
      " [1. 0. 0. 0. 0. 0. 0. 0. 0. 1.]\n",
      " [1. 0. 0. 0. 0. 0. 0. 0. 0. 1.]\n",
      " [1. 0. 0. 0. 0. 0. 0. 0. 0. 1.]\n",
      " [1. 1. 1. 1. 1. 1. 1. 1. 1. 1.]]\n"
     ]
    }
   ],
   "source": [
    "#1\n",
    "import numpy as np\n",
    "matrix1 = np.zeros((10, 10))\n",
    "matrix1[0, :] = 1\n",
    "matrix1[-1, :] = 1\n",
    "matrix1[:, 0] = 1\n",
    "matrix1[:, -1] = 1\n",
    "print(matrix1)"
   ]
  },
  {
   "cell_type": "markdown",
   "id": "8d3b3c80",
   "metadata": {},
   "source": [
    "2. Create a 5*5 matrix with each row being 0 to 4"
   ]
  },
  {
   "cell_type": "code",
   "execution_count": 2,
   "id": "6c26347e",
   "metadata": {},
   "outputs": [
    {
     "name": "stdout",
     "output_type": "stream",
     "text": [
      "[[0 1 2 3 4]\n",
      " [0 1 2 3 4]\n",
      " [0 1 2 3 4]\n",
      " [0 1 2 3 4]\n",
      " [0 1 2 3 4]]\n"
     ]
    }
   ],
   "source": [
    "#2\n",
    "matrix2 = np.tile(np.arange(5), (5, 1))\n",
    "print(matrix2)"
   ]
  },
  {
   "cell_type": "markdown",
   "id": "8b226308",
   "metadata": {},
   "source": [
    "3. Create an 8*8 matrix and fill it with a checkerboard pattern, like [[0,1],[1,0]])"
   ]
  },
  {
   "cell_type": "code",
   "execution_count": 3,
   "id": "e83e8494",
   "metadata": {},
   "outputs": [
    {
     "name": "stdout",
     "output_type": "stream",
     "text": [
      "[[0 0 0 0 0 0 0 0]\n",
      " [1 0 1 0 1 0 1 0]\n",
      " [0 0 0 0 0 0 0 0]\n",
      " [1 0 1 0 1 0 1 0]\n",
      " [0 0 0 0 0 0 0 0]\n",
      " [1 0 1 0 1 0 1 0]\n",
      " [0 0 0 0 0 0 0 0]\n",
      " [1 0 1 0 1 0 1 0]]\n"
     ]
    }
   ],
   "source": [
    "#3\n",
    "matrix3 = np.zeros((8, 8), dtype=int)\n",
    "matrix3[1::2, ::2] = 1\n",
    "# matrix3[::2, 1::2] = 1\n",
    "print(matrix3)"
   ]
  },
  {
   "cell_type": "markdown",
   "id": "04663245",
   "metadata": {},
   "source": [
    "4. output all the odd numbers in the array  \n",
    "   Example:  \n",
    "   in:    arr = np.array([0, 1, 2, 3, 4, 5, 6, 7, 8, 9])  \n",
    "   out:   array([1, 3, 5, 7, 9])  "
   ]
  },
  {
   "cell_type": "code",
   "execution_count": 4,
   "id": "7964df33",
   "metadata": {},
   "outputs": [
    {
     "name": "stdout",
     "output_type": "stream",
     "text": [
      "[1 3 5 7 9]\n"
     ]
    }
   ],
   "source": [
    "#4\n",
    "arr = np.array([0, 1, 2, 3, 4, 5, 6, 7, 8, 9])\n",
    "odds = arr[arr % 2 == 1]\n",
    "print(odds)"
   ]
  },
  {
   "cell_type": "markdown",
   "id": "fc506104",
   "metadata": {},
   "source": [
    "5. Normalize a 5x5 random matrix that follows the Gaussian distribution N(4,3).(Z-Score Normalization零均值归一化)"
   ]
  },
  {
   "cell_type": "code",
   "execution_count": 5,
   "id": "972284fd",
   "metadata": {},
   "outputs": [
    {
     "name": "stdout",
     "output_type": "stream",
     "text": [
      "[[-0.12027822 -2.72656637 -0.26229572  0.15769054 -0.31014909]\n",
      " [ 0.35512149  0.1894333  -0.08687529  0.43305537 -0.89691363]\n",
      " [-1.21525122  0.35992031  1.13140075 -0.18720428 -0.59513536]\n",
      " [-0.87191245  0.99607706 -0.36426584  0.37978608 -0.99132493]\n",
      " [ 2.68635816  0.4935272   0.71615245 -0.54980306  1.27945272]]\n"
     ]
    }
   ],
   "source": [
    "#5\n",
    "random_matrix = np.random.normal(4, 3, (5, 5))\n",
    "mean = random_matrix.mean()\n",
    "std = random_matrix.std()\n",
    "normalized_matrix = (random_matrix - mean) / std\n",
    "print(normalized_matrix)"
   ]
  },
  {
   "cell_type": "markdown",
   "id": "df87456c",
   "metadata": {},
   "source": [
    "6. Consider a random positive 10x2 matrix representing cartesian coordinates, convert them to polar coordinates."
   ]
  },
  {
   "cell_type": "code",
   "execution_count": 6,
   "id": "125feb23",
   "metadata": {},
   "outputs": [
    {
     "name": "stdout",
     "output_type": "stream",
     "text": [
      "          X         Y  R (Radius)  T (Theta in Radians)\n",
      "0  0.486601  0.463854    0.672266              0.761470\n",
      "1  0.640670  0.971308    1.163571              0.987705\n",
      "2  0.933011  0.447257    1.034673              0.447007\n",
      "3  0.553285  0.789944    0.964435              0.959795\n",
      "4  0.262886  0.560009    0.618643              1.131901\n",
      "5  0.180805  0.771506    0.792408              1.340598\n",
      "6  0.282894  0.686342    0.742357              1.179838\n",
      "7  0.994648  0.881287    1.328906              0.725043\n",
      "8  0.424032  0.566355    0.707504              0.928125\n",
      "9  0.497186  0.312802    0.587400              0.561574\n"
     ]
    }
   ],
   "source": [
    "# Output the X, Y, R, and T values in a clear format\n",
    "\n",
    "# Given data for X and Y (Cartesian coordinates)\n",
    "X = np.array([0.48660129, 0.64067014, 0.93301119, 0.55328471, 0.2628861,  \n",
    "              0.18080466, 0.28289352, 0.99464788, 0.42403243, 0.49718628])\n",
    "Y = np.array([0.46385448, 0.97130751, 0.4472571, 0.78994386, 0.56000864, \n",
    "              0.77150557, 0.6863419, 0.88128735, 0.5663552, 0.31280192])\n",
    "\n",
    "# Calculate R and T (Polar coordinates)\n",
    "R = np.sqrt(X**2 + Y**2)  # Radius\n",
    "T = np.arctan2(Y, X)      # Theta (in radians)\n",
    "\n",
    "# Display the values of X, Y, R, and T\n",
    "import pandas as pd\n",
    "\n",
    "data = {\n",
    "    \"X\": X,\n",
    "    \"Y\": Y,\n",
    "    \"R (Radius)\": R,\n",
    "    \"T (Theta in Radians)\": T\n",
    "}\n",
    "\n",
    "df = pd.DataFrame(data)\n",
    "print(df)"
   ]
  },
  {
   "cell_type": "markdown",
   "id": "c1cedf1f",
   "metadata": {},
   "source": [
    "7. Consider the vector [1, 2, 3, 4, 5], how to build a new vector with 3 consecutive zeros interleaved between each value?"
   ]
  },
  {
   "cell_type": "code",
   "execution_count": 7,
   "id": "c8a88dfd",
   "metadata": {},
   "outputs": [
    {
     "name": "stdout",
     "output_type": "stream",
     "text": [
      "[1. 0. 0. 0. 2. 0. 0. 0. 3. 0. 0. 0. 4. 0. 0. 0. 5.]\n"
     ]
    }
   ],
   "source": [
    "#7\n",
    "vector = np.array([1, 2, 3, 4, 5])\n",
    "new_vector = np.zeros(len(vector) * 4 - 3)\n",
    "new_vector[::4] = vector\n",
    "print(new_vector)"
   ]
  },
  {
   "cell_type": "markdown",
   "id": "c7ea103c",
   "metadata": {},
   "source": [
    "8. What are the result of the following expressions?\n",
    "\n",
    "0 * np.nan\n",
    "\n",
    "np.nan == np.nan\n",
    "\n",
    "np.inf > np.nan\n",
    "\n",
    "np.nan - np.nan\n",
    "\n",
    "np.nan in set([np.nan])\n",
    "\n",
    "0.3 == 3 * 0.1 \n",
    "\n",
    "(hint1:nan means not a number \n",
    "\n",
    "hint2:0.1(10) == 0.0001100110011001100110011001100110011001100110011...(2)\n",
    "\n",
    "First guess a result, then print the result, and finally find why"
   ]
  },
  {
   "cell_type": "code",
   "execution_count": 8,
   "id": "ee65170c",
   "metadata": {},
   "outputs": [
    {
     "name": "stdout",
     "output_type": "stream",
     "text": [
      "nan False False nan True False\n"
     ]
    }
   ],
   "source": [
    "#8\n",
    "print(0 * np.nan,\n",
    "\n",
    "np.nan == np.nan\n",
    "\n",
    ",np.inf > np.nan\n",
    "\n",
    ",np.nan - np.nan\n",
    "\n",
    ",np.nan in set([np.nan])\n",
    "\n",
    ",0.3 == 3 * 0.1 )"
   ]
  },
  {
   "cell_type": "markdown",
   "id": "7218ef9e",
   "metadata": {},
   "source": [
    "9. What are the result of the following expressions? (Hint: the type of pn.nan is float)\n",
    "\n",
    "np.array(0) / np.array(0)\n",
    "\n",
    "np.array(0) // np.array(0)\n",
    "\n",
    "np.array([np.nan]).astype(int).astype(float)\n",
    "\n",
    "\n",
    "First guess a result, then print the result, and finally find why "
   ]
  },
  {
   "cell_type": "code",
   "execution_count": 9,
   "id": "cc0b2732",
   "metadata": {},
   "outputs": [
    {
     "name": "stdout",
     "output_type": "stream",
     "text": [
      "nan 0 [-2.14748365e+09]\n"
     ]
    },
    {
     "name": "stderr",
     "output_type": "stream",
     "text": [
      "C:\\Users\\83876\\AppData\\Local\\Temp\\ipykernel_4376\\2389941569.py:1: RuntimeWarning: invalid value encountered in divide\n",
      "  print(np.array(0) / np.array(0),\n",
      "C:\\Users\\83876\\AppData\\Local\\Temp\\ipykernel_4376\\2389941569.py:3: RuntimeWarning: divide by zero encountered in floor_divide\n",
      "  np.array(0) // np.array(0),\n",
      "C:\\Users\\83876\\AppData\\Local\\Temp\\ipykernel_4376\\2389941569.py:5: RuntimeWarning: invalid value encountered in cast\n",
      "  np.array([np.nan]).astype(int).astype(float))\n"
     ]
    }
   ],
   "source": [
    "print(np.array(0) / np.array(0),\n",
    "\n",
    "np.array(0) // np.array(0),\n",
    "\n",
    "np.array([np.nan]).astype(int).astype(float))"
   ]
  }
 ],
 "metadata": {
  "kernelspec": {
   "display_name": "Python 3",
   "language": "python",
   "name": "python3"
  },
  "language_info": {
   "codemirror_mode": {
    "name": "ipython",
    "version": 3
   },
   "file_extension": ".py",
   "mimetype": "text/x-python",
   "name": "python",
   "nbconvert_exporter": "python",
   "pygments_lexer": "ipython3",
   "version": "3.12.4"
  }
 },
 "nbformat": 4,
 "nbformat_minor": 5
}
